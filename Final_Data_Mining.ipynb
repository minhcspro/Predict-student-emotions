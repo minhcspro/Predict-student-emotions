{
  "nbformat": 4,
  "nbformat_minor": 0,
  "metadata": {
    "colab": {
      "provenance": [],
      "collapsed_sections": [
        "WVppPC9bK46C",
        "d1bfKNMHLbTD",
        "m9qV9kp0LebS",
        "98sKcO2wLkgW",
        "_bPfcj49o95T",
        "PTmPwaCaClUv"
      ]
    },
    "kernelspec": {
      "name": "python3",
      "display_name": "Python 3"
    },
    "language_info": {
      "name": "python"
    }
  },
  "cells": [
    {
      "cell_type": "markdown",
      "source": [
        "# Đồ án cuối kỳ\n",
        "# Môn: Khai Thác Các Tập Dữ Liệu Lớn\n",
        "# Học kỳ 1 - Năm học 2022-2023\n",
        "\n",
        "---\n",
        "# Sinh viên:\n",
        "# Nguyễn Duy Đông -  52000749\n",
        "# Nguyễn Quốc Minh - 52000782 \n",
        "---\n",
        "\n",
        "# Giảng viên: TS. Nguyễn Tuấn Đăng"
      ],
      "metadata": {
        "id": "rLUMgI7ZHZGk"
      }
    },
    {
      "cell_type": "markdown",
      "source": [
        "#**SET UP**"
      ],
      "metadata": {
        "id": "WVppPC9bK46C"
      }
    },
    {
      "cell_type": "code",
      "execution_count": null,
      "metadata": {
        "id": "V4kDS5VCIW7h",
        "colab": {
          "base_uri": "https://localhost:8080/"
        },
        "outputId": "02e1a3f5-8bfc-4934-d5d4-b9ec5ee1a978"
      },
      "outputs": [
        {
          "output_type": "stream",
          "name": "stdout",
          "text": [
            "\u001b[2K     \u001b[90m━━━━━━━━━━━━━━━━━━━━━━━━━━━━━━━━━━━━━━━\u001b[0m \u001b[32m281.3/281.3 MB\u001b[0m \u001b[31m5.2 MB/s\u001b[0m eta \u001b[36m0:00:00\u001b[0m\n",
            "\u001b[?25h  Preparing metadata (setup.py) ... \u001b[?25l\u001b[?25hdone\n",
            "\u001b[2K     \u001b[90m━━━━━━━━━━━━━━━━━━━━━━━━━━━━━━━━━━━━━━\u001b[0m \u001b[32m448.4/448.4 KB\u001b[0m \u001b[31m38.2 MB/s\u001b[0m eta \u001b[36m0:00:00\u001b[0m\n",
            "\u001b[2K     \u001b[90m━━━━━━━━━━━━━━━━━━━━━━━━━━━━━━━━━━━━━━\u001b[0m \u001b[32m199.7/199.7 KB\u001b[0m \u001b[31m22.6 MB/s\u001b[0m eta \u001b[36m0:00:00\u001b[0m\n",
            "\u001b[?25h  Building wheel for pyspark (setup.py) ... \u001b[?25l\u001b[?25hdone\n"
          ]
        }
      ],
      "source": [
        "!pip install -q pyspark==3.3.0 spark-nlp==4.2.4"
      ]
    },
    {
      "cell_type": "code",
      "source": [
        "import sparknlp\n",
        "\n",
        "spark = sparknlp.start()\n",
        "# params =>> gpu=False\n",
        "\n",
        "print(\"Spark NLP version\", sparknlp.version())\n",
        "print(\"Apache Spark version:\", spark.version)\n",
        "\n",
        "spark"
      ],
      "metadata": {
        "colab": {
          "base_uri": "https://localhost:8080/",
          "height": 254
        },
        "id": "W4dSyu19J4qV",
        "outputId": "5deb39a3-80bd-481c-9eac-cf665b1e68f2"
      },
      "execution_count": null,
      "outputs": [
        {
          "output_type": "stream",
          "name": "stdout",
          "text": [
            "Spark NLP version 4.2.4\n",
            "Apache Spark version: 3.3.0\n"
          ]
        },
        {
          "output_type": "execute_result",
          "data": {
            "text/plain": [
              "<pyspark.sql.session.SparkSession at 0x7faef05c1790>"
            ],
            "text/html": [
              "\n",
              "            <div>\n",
              "                <p><b>SparkSession - in-memory</b></p>\n",
              "                \n",
              "        <div>\n",
              "            <p><b>SparkContext</b></p>\n",
              "\n",
              "            <p><a href=\"http://0f3e55d4bdef:4040\">Spark UI</a></p>\n",
              "\n",
              "            <dl>\n",
              "              <dt>Version</dt>\n",
              "                <dd><code>v3.3.0</code></dd>\n",
              "              <dt>Master</dt>\n",
              "                <dd><code>local[*]</code></dd>\n",
              "              <dt>AppName</dt>\n",
              "                <dd><code>Spark NLP</code></dd>\n",
              "            </dl>\n",
              "        </div>\n",
              "        \n",
              "            </div>\n",
              "        "
            ]
          },
          "metadata": {},
          "execution_count": 2
        }
      ]
    },
    {
      "cell_type": "code",
      "source": [
        "! cd ~/.ivy2/cache/com.johnsnowlabs.nlp/spark-nlp_2.12/jars && ls -lt"
      ],
      "metadata": {
        "colab": {
          "base_uri": "https://localhost:8080/"
        },
        "id": "XPMIocNwKHWm",
        "outputId": "505def3b-051c-4163-f89a-4454042f21c5"
      },
      "execution_count": null,
      "outputs": [
        {
          "output_type": "stream",
          "name": "stdout",
          "text": [
            "total 43992\n",
            "-rw-r--r-- 1 root root 45044627 Nov 28 16:37 spark-nlp_2.12-4.2.4.jar\n"
          ]
        }
      ]
    },
    {
      "cell_type": "code",
      "source": [
        "from pyspark.sql import SparkSession\n",
        "\n",
        "# create a new Spark session\n",
        "spark = SparkSession.builder.appName(\"Segmentation Classifier\").getOrCreate()"
      ],
      "metadata": {
        "id": "hKD8YwrEK64B"
      },
      "execution_count": null,
      "outputs": []
    },
    {
      "cell_type": "markdown",
      "source": [
        "#**IMPORT LIBRARIES**"
      ],
      "metadata": {
        "id": "d1bfKNMHLbTD"
      }
    },
    {
      "cell_type": "code",
      "source": [
        "from pyspark.sql.functions import col, lit, when\n",
        "from pyspark.sql.types import *\n",
        "from pyspark.ml import Pipeline\n",
        "from pyspark.ml.feature import RegexTokenizer, StopWordsRemover, CountVectorizer, IDF, StringIndexer\n",
        "from pyspark.ml.classification import LogisticRegression, DecisionTreeClassifier, RandomForestClassifier\n",
        "from pyspark.ml.evaluation import MulticlassClassificationEvaluator\n",
        "from sparknlp.annotator import *\n",
        "from sparknlp.common import *\n",
        "from sparknlp.base import *\n",
        "from sparknlp.training import CoNLL\n",
        "import matplotlib.pyplot as plt\n",
        "import numpy as np"
      ],
      "metadata": {
        "id": "5O5OrTMJW_gS"
      },
      "execution_count": null,
      "outputs": []
    },
    {
      "cell_type": "markdown",
      "source": [
        "#**READ DATA**"
      ],
      "metadata": {
        "id": "m9qV9kp0LebS"
      }
    },
    {
      "cell_type": "code",
      "source": [
        "# Đọc dữ liệu train, validation và test từ file CSV\n",
        "train_df = spark.read.csv('/content/train.csv', header=True, inferSchema=True)\n",
        "validation_df = spark.read.csv('/content/validation.csv', header=True, inferSchema=True)\n",
        "test_df = spark.read.csv('/content/test.csv', header=True, inferSchema=True)"
      ],
      "metadata": {
        "id": "Dv0jPFexXKOr"
      },
      "execution_count": null,
      "outputs": []
    },
    {
      "cell_type": "code",
      "source": [
        "train_df.show()"
      ],
      "metadata": {
        "colab": {
          "base_uri": "https://localhost:8080/"
        },
        "id": "enIflQxd-cWs",
        "outputId": "dc4726c5-45b8-4fd7-c0ff-882ccfdb795c"
      },
      "execution_count": null,
      "outputs": [
        {
          "output_type": "stream",
          "name": "stdout",
          "text": [
            "+--------------------+---------+-----+\n",
            "|            sentence|sentiment|topic|\n",
            "+--------------------+---------+-----+\n",
            "|slide giáo trình ...|        2|    1|\n",
            "|nhiệt tình giảng ...|        2|    0|\n",
            "|đi học đầy đủ ful...|        0|    1|\n",
            "|chưa áp dụng công...|        0|    0|\n",
            "|thầy giảng bài ha...|        2|    0|\n",
            "|giảng viên đảm bả...|        2|    0|\n",
            "|em sẽ nợ môn này ...|        1|    3|\n",
            "|thời lượng học qu...|        0|    1|\n",
            "|nội dung môn học ...|        0|    1|\n",
            "|cần nói rõ hơn bằ...|        0|    1|\n",
            "|thầy rất tận tình...|        2|    0|\n",
            "|      dễ bị áp lực .|        0|    3|\n",
            "|đang dạy thầy wzj...|        1|    0|\n",
            "|môn học còn dễ cầ...|        0|    1|\n",
            "|có thể cho sinh v...|        0|    1|\n",
            "|hài lòng về tất cả .|        2|    3|\n",
            "|nhiệt tình , vui ...|        2|    0|\n",
            "|thấy nhiệt tình t...|        2|    0|\n",
            "|phong cách giảng ...|        2|    0|\n",
            "|giảng dạy kết hợp...|        2|    0|\n",
            "+--------------------+---------+-----+\n",
            "only showing top 20 rows\n",
            "\n"
          ]
        }
      ]
    },
    {
      "cell_type": "markdown",
      "source": [
        "#**DATA PREPROCESSING**"
      ],
      "metadata": {
        "id": "98sKcO2wLkgW"
      }
    },
    {
      "cell_type": "code",
      "source": [
        "# Chuyển đổi cột sentiment thành kiểu số nguyên (int)\n",
        "train_df = train_df.withColumn(\"sentiment\", col(\"sentiment\").cast(\"int\"))\n",
        "validation_df = validation_df.withColumn(\"sentiment\", col(\"sentiment\").cast(\"int\"))\n",
        "test_df = test_df.withColumn(\"sentiment\", col(\"sentiment\").cast(\"int\"))"
      ],
      "metadata": {
        "id": "_adhnnvFhtNV"
      },
      "execution_count": null,
      "outputs": []
    },
    {
      "cell_type": "code",
      "source": [
        "train_df"
      ],
      "metadata": {
        "colab": {
          "base_uri": "https://localhost:8080/"
        },
        "id": "q7iF6UbGiaC8",
        "outputId": "f67caf73-e4d8-40fa-a8ea-0c6f81c3903f"
      },
      "execution_count": null,
      "outputs": [
        {
          "output_type": "execute_result",
          "data": {
            "text/plain": [
              "DataFrame[sentence: string, sentiment: int, topic: string]"
            ]
          },
          "metadata": {},
          "execution_count": 9
        }
      ]
    },
    {
      "cell_type": "code",
      "source": [
        "train_df.printSchema()"
      ],
      "metadata": {
        "colab": {
          "base_uri": "https://localhost:8080/"
        },
        "id": "z_7OP3qxiT-2",
        "outputId": "94ae3288-10c8-476f-a0e6-da7d8bead841"
      },
      "execution_count": null,
      "outputs": [
        {
          "output_type": "stream",
          "name": "stdout",
          "text": [
            "root\n",
            " |-- sentence: string (nullable = true)\n",
            " |-- sentiment: integer (nullable = true)\n",
            " |-- topic: string (nullable = true)\n",
            "\n"
          ]
        }
      ]
    },
    {
      "cell_type": "code",
      "source": [
        "train_df.toPandas().info(verbose=True)\n",
        "validation_df.toPandas().info(verbose=True)\n",
        "test_df.toPandas().info(verbose=True)"
      ],
      "metadata": {
        "colab": {
          "base_uri": "https://localhost:8080/"
        },
        "id": "OUrWvWf4MzfQ",
        "outputId": "0218da0a-dbbf-4243-df8c-fe8a0ef7bce5"
      },
      "execution_count": null,
      "outputs": [
        {
          "output_type": "stream",
          "name": "stdout",
          "text": [
            "<class 'pandas.core.frame.DataFrame'>\n",
            "RangeIndex: 11426 entries, 0 to 11425\n",
            "Data columns (total 3 columns):\n",
            " #   Column     Non-Null Count  Dtype  \n",
            "---  ------     --------------  -----  \n",
            " 0   sentence   11426 non-null  object \n",
            " 1   sentiment  11403 non-null  float64\n",
            " 2   topic      11426 non-null  object \n",
            "dtypes: float64(1), object(2)\n",
            "memory usage: 267.9+ KB\n",
            "<class 'pandas.core.frame.DataFrame'>\n",
            "RangeIndex: 3166 entries, 0 to 3165\n",
            "Data columns (total 3 columns):\n",
            " #   Column     Non-Null Count  Dtype  \n",
            "---  ------     --------------  -----  \n",
            " 0   sentence   3166 non-null   object \n",
            " 1   sentiment  3160 non-null   float64\n",
            " 2   topic      3166 non-null   object \n",
            "dtypes: float64(1), object(2)\n",
            "memory usage: 74.3+ KB\n",
            "<class 'pandas.core.frame.DataFrame'>\n",
            "RangeIndex: 1583 entries, 0 to 1582\n",
            "Data columns (total 3 columns):\n",
            " #   Column     Non-Null Count  Dtype  \n",
            "---  ------     --------------  -----  \n",
            " 0   sentence   1583 non-null   object \n",
            " 1   sentiment  1579 non-null   float64\n",
            " 2   topic      1583 non-null   int32  \n",
            "dtypes: float64(1), int32(1), object(1)\n",
            "memory usage: 31.0+ KB\n"
          ]
        }
      ]
    },
    {
      "cell_type": "code",
      "source": [
        "train_df = train_df.na.drop()\n",
        "validation_df = validation_df.na.drop()\n",
        "test_df = test_df.na.drop()"
      ],
      "metadata": {
        "id": "SJub7CiRNg14"
      },
      "execution_count": null,
      "outputs": []
    },
    {
      "cell_type": "code",
      "source": [
        "# Chỉ lấy hai cột 'sentence' và 'sentiment'\n",
        "train_df = train_df.select(col(\"sentence\"), col(\"sentiment\"))\n",
        "validation_df = validation_df.select(col(\"sentence\"), col(\"sentiment\"))\n",
        "test_df = test_df.select(col(\"sentence\"), col(\"sentiment\"))"
      ],
      "metadata": {
        "id": "ZLwQESaQjNs_"
      },
      "execution_count": null,
      "outputs": []
    },
    {
      "cell_type": "code",
      "source": [
        "train_df.show()"
      ],
      "metadata": {
        "colab": {
          "base_uri": "https://localhost:8080/"
        },
        "id": "H6Xpv_mojq4r",
        "outputId": "a374d5fe-84be-4952-97f9-02f998f985c1"
      },
      "execution_count": null,
      "outputs": [
        {
          "output_type": "stream",
          "name": "stdout",
          "text": [
            "+--------------------+---------+\n",
            "|            sentence|sentiment|\n",
            "+--------------------+---------+\n",
            "|slide giáo trình ...|        2|\n",
            "|nhiệt tình giảng ...|        2|\n",
            "|đi học đầy đủ ful...|        0|\n",
            "|chưa áp dụng công...|        0|\n",
            "|thầy giảng bài ha...|        2|\n",
            "|giảng viên đảm bả...|        2|\n",
            "|em sẽ nợ môn này ...|        1|\n",
            "|thời lượng học qu...|        0|\n",
            "|nội dung môn học ...|        0|\n",
            "|cần nói rõ hơn bằ...|        0|\n",
            "|thầy rất tận tình...|        2|\n",
            "|      dễ bị áp lực .|        0|\n",
            "|đang dạy thầy wzj...|        1|\n",
            "|môn học còn dễ cầ...|        0|\n",
            "|có thể cho sinh v...|        0|\n",
            "|hài lòng về tất cả .|        2|\n",
            "|nhiệt tình , vui ...|        2|\n",
            "|thấy nhiệt tình t...|        2|\n",
            "|phong cách giảng ...|        2|\n",
            "|giảng dạy kết hợp...|        2|\n",
            "+--------------------+---------+\n",
            "only showing top 20 rows\n",
            "\n"
          ]
        }
      ]
    },
    {
      "cell_type": "code",
      "source": [
        "train_df.printSchema()"
      ],
      "metadata": {
        "colab": {
          "base_uri": "https://localhost:8080/"
        },
        "id": "iQyyZakWjPWa",
        "outputId": "19d03b40-255f-40b4-dbd5-fb83eb8f25d1"
      },
      "execution_count": null,
      "outputs": [
        {
          "output_type": "stream",
          "name": "stdout",
          "text": [
            "root\n",
            " |-- sentence: string (nullable = true)\n",
            " |-- sentiment: integer (nullable = true)\n",
            "\n"
          ]
        }
      ]
    },
    {
      "cell_type": "code",
      "source": [
        "# Khởi tạo các annotator của Spark NLP\n",
        "document_assembler = DocumentAssembler().setInputCol(\"sentence\") \\\n",
        "                                        .setOutputCol(\"document\")\n",
        "\n",
        "tokenizer = Tokenizer().setInputCols([\"document\"]) \\\n",
        "                       .setOutputCol(\"token\")\n",
        "\n",
        "normalizer = Normalizer().setInputCols([\"token\"]) \\\n",
        "                         .setOutputCol(\"normalized\")\n",
        "\n",
        "lemmatizer = LemmatizerModel.pretrained() \\\n",
        "                            .setInputCols([\"normalized\"]) \\\n",
        "                            .setOutputCol(\"lemma\")\n",
        "\n",
        "stopwords_cleaner = StopWordsCleaner().setInputCols([\"lemma\"]) \\\n",
        "                                      .setOutputCol(\"cleanTokens\") \\\n",
        "                                      .setCaseSensitive(False)\n",
        "\n",
        "finisher = Finisher().setInputCols([\"cleanTokens\"]) \\\n",
        "                     .setOutputCols([\"token_features\"]) \\\n",
        "                     .setOutputAsArray(True)"
      ],
      "metadata": {
        "colab": {
          "base_uri": "https://localhost:8080/"
        },
        "id": "-uZhaAKghv7i",
        "outputId": "061b1e2d-7461-421a-d99e-885c2f5c0ab1"
      },
      "execution_count": null,
      "outputs": [
        {
          "output_type": "stream",
          "name": "stdout",
          "text": [
            "lemma_antbnc download started this may take some time.\n",
            "Approximate size to download 907.6 KB\n",
            "[OK!]\n"
          ]
        }
      ]
    },
    {
      "cell_type": "code",
      "source": [
        "# Khởi tạo Pipeline cho quá trình tiền xử lý dữ liệu\n",
        "preprocessing_pipeline = Pipeline(\n",
        "  stages = [\n",
        "    document_assembler,\n",
        "    tokenizer,\n",
        "    normalizer,\n",
        "    lemmatizer,\n",
        "    stopwords_cleaner,\n",
        "    finisher\n",
        "  ])"
      ],
      "metadata": {
        "id": "t41FxmCkhybj"
      },
      "execution_count": null,
      "outputs": []
    },
    {
      "cell_type": "code",
      "source": [
        "# Áp dụng Pipeline để tiền xử lý dữ liệu train, validation và test\n",
        "train_df = preprocessing_pipeline.fit(train_df).transform(train_df)\n",
        "validation_df = preprocessing_pipeline.fit(validation_df).transform(validation_df)\n",
        "test_df = preprocessing_pipeline.fit(test_df).transform(test_df)"
      ],
      "metadata": {
        "id": "is4qM0O4XW6v"
      },
      "execution_count": null,
      "outputs": []
    },
    {
      "cell_type": "code",
      "source": [
        "# Khởi tạo CountVectorizer và IDF cho quá trình feature engineering\n",
        "count_vectorizer = CountVectorizer(inputCol=\"token_features\", outputCol=\"raw_features\")\n",
        "idf = IDF(inputCol=\"raw_features\", outputCol=\"features\")"
      ],
      "metadata": {
        "id": "2ejxeU4gh5YA"
      },
      "execution_count": null,
      "outputs": []
    },
    {
      "cell_type": "markdown",
      "source": [
        "# **MODEL BUILDING**"
      ],
      "metadata": {
        "id": "_bPfcj49o95T"
      }
    },
    {
      "cell_type": "code",
      "source": [
        "class ModelTrainer:\n",
        "  def __init__(self, train_df, validation_df, test_df, count_vectorizer, idf):\n",
        "    self.train_df = train_df\n",
        "    self.validation_df = validation_df\n",
        "    self.test_df = test_df\n",
        "    self.count_vectorizer = count_vectorizer\n",
        "    self.idf = idf\n",
        "\n",
        "  def train(self, pipeline):\n",
        "    model = pipeline.fit(self.train_df)\n",
        "    validation_predictions = model.transform(self.validation_df)\n",
        "    evaluator = MulticlassClassificationEvaluator(predictionCol=\"prediction\", labelCol=\"sentiment\", metricName=\"accuracy\")\n",
        "    accuracy = evaluator.evaluate(validation_predictions)\n",
        "    return model, accuracy\n",
        "\n",
        "  def train_all(self):\n",
        "    models = []\n",
        "    validation_accuracies = []\n",
        "    test_accuracies = []\n",
        "\n",
        "    # Khởi tạo các mô hình\n",
        "    lr = LogisticRegression(featuresCol=\"features\", labelCol=\"sentiment\")\n",
        "    dt = DecisionTreeClassifier(featuresCol=\"features\", labelCol=\"sentiment\")\n",
        "    rf = RandomForestClassifier(featuresCol=\"features\", labelCol=\"sentiment\")\n",
        "\n",
        "    # Tạo pipeline cho quá trình train và predict cho mỗi mô hình\n",
        "    pipelines = [\n",
        "      Pipeline(stages=[self.count_vectorizer, self.idf, lr]),\n",
        "      Pipeline(stages=[self.count_vectorizer, self.idf, dt]),\n",
        "      Pipeline(stages=[self.count_vectorizer, self.idf, rf])\n",
        "    ]\n",
        "\n",
        "    # Train và predict trên từng mô hình và lưu kết quả\n",
        "    for pipeline in pipelines:\n",
        "      model, validation_accuracy = self.train(pipeline)\n",
        "      models.append(model)\n",
        "      validation_accuracies.append(validation_accuracy)\n",
        "      \n",
        "      test_prediction = model.transform(self.test_df)\n",
        "      evaluator = MulticlassClassificationEvaluator(predictionCol=\"prediction\", labelCol=\"sentiment\", metricName=\"accuracy\")\n",
        "      test_accuracy = evaluator.evaluate(test_prediction)\n",
        "      test_accuracies.append(test_accuracy)\n",
        "\n",
        "    # Tổng hợp accuracies\n",
        "    accuracies = validation_accuracies + test_accuracies\n",
        "\n",
        "    # Vẽ biểu đồ trực quan hóa dữ liệu dự đoán\n",
        "    labels = ['LR', 'DT', 'RF'] * 2\n",
        "    colors = ['blue', 'orange', 'green'] * 2\n",
        "    values = accuracies\n",
        "    plt.bar(labels, values, color=colors)\n",
        "    plt.xlabel('Model')\n",
        "    plt.ylabel('Accuracy')\n",
        "    plt.ylim((0, 1))\n",
        "    plt.title('Accuracy of Different Models on Test Data')\n",
        "    plt.show()\n",
        "\n",
        "    return models, accuracies, test_prediction"
      ],
      "metadata": {
        "id": "WEbiLxIiYEjj"
      },
      "execution_count": null,
      "outputs": []
    },
    {
      "cell_type": "code",
      "source": [
        "# Khởi tạo đối tượng ModelTrainer:\n",
        "trainer = ModelTrainer(train_df, validation_df, test_df, count_vectorizer, idf)"
      ],
      "metadata": {
        "id": "ce4cXUJniCvm"
      },
      "execution_count": null,
      "outputs": []
    },
    {
      "cell_type": "code",
      "source": [
        "# Train và đánh giá các mô hình:\n",
        "models, accuracies, test_predictions = trainer.train_all()"
      ],
      "metadata": {
        "colab": {
          "base_uri": "https://localhost:8080/",
          "height": 472
        },
        "id": "9nsHvkrSZuP3",
        "outputId": "207d5501-eadc-4ee0-dc55-e1f22ac45bd0"
      },
      "execution_count": null,
      "outputs": [
        {
          "output_type": "display_data",
          "data": {
            "text/plain": [
              "<Figure size 640x480 with 1 Axes>"
            ],
            "image/png": "[encoded data removed]"
          },
          "metadata": {}
        }
      ]
    },
    {
      "cell_type": "markdown",
      "source": [
        "# **TEST**"
      ],
      "metadata": {
        "id": "PTmPwaCaClUv"
      }
    },
    {
      "cell_type": "code",
      "source": [
        "# Tạo DataFrame mới chứa câu cần dự đoán\n",
        "text = \"Môn này học chán quá\"\n",
        "data = [(text, 0)]\n",
        "df = spark.createDataFrame(data, [\"sentence\", \"sentiment\"])\n",
        "\n",
        "# Áp dụng Pipeline để tiền xử lý dữ liệu cho câu cần dự đoán\n",
        "df = preprocessing_pipeline.fit(df).transform(df)\n",
        "\n",
        "# Danh sách tên các mô hình\n",
        "model_names = [\"Logistic Regression\", \"Decision Tree Classifier\", \"Random Forest Classifier\"]\n",
        "\n",
        "# Dự đoán cảm xúc của câu cần dự đoán bằng các mô hình đã train\n",
        "predictions = []\n",
        "for model, model_name in zip(models, model_names):\n",
        "    prediction = model.transform(df)\n",
        "    prediction = prediction.select(col(\"sentence\"), col(\"prediction\").alias(\"sentiment\"))\n",
        "    # Thêm cột loại cảm xúc\n",
        "    prediction = prediction.withColumn(\"emotion\", when(prediction[\"sentiment\"] == 0, \"negative\")\n",
        "                                          .when(prediction[\"sentiment\"] == 1, \"neutral\")\n",
        "                                          .when(prediction[\"sentiment\"] == 2, \"positive\")\n",
        "                                          .otherwise(\"unknown\"))\n",
        "    predictions.append(prediction)\n",
        "\n",
        "# In kết quả dự đoán của từng mô hình\n",
        "for i, prediction in enumerate(predictions):\n",
        "    print(f\"Prediction {i + 1} ({model_names[i]}):\")\n",
        "    prediction.show()"
      ],
      "metadata": {
        "colab": {
          "base_uri": "https://localhost:8080/"
        },
        "id": "KH4blLKXCm6z",
        "outputId": "0c0c8574-cbb0-4fbb-f96d-3d940a6d91ea"
      },
      "execution_count": null,
      "outputs": [
        {
          "output_type": "stream",
          "name": "stdout",
          "text": [
            "Prediction 1 (Logistic Regression):\n",
            "+--------------------+---------+--------+\n",
            "|            sentence|sentiment| emotion|\n",
            "+--------------------+---------+--------+\n",
            "|Môn này học chán quá|      0.0|negative|\n",
            "+--------------------+---------+--------+\n",
            "\n",
            "Prediction 2 (Decision Tree Classifier):\n",
            "+--------------------+---------+--------+\n",
            "|            sentence|sentiment| emotion|\n",
            "+--------------------+---------+--------+\n",
            "|Môn này học chán quá|      2.0|positive|\n",
            "+--------------------+---------+--------+\n",
            "\n",
            "Prediction 3 (Random Forest Classifier):\n",
            "+--------------------+---------+--------+\n",
            "|            sentence|sentiment| emotion|\n",
            "+--------------------+---------+--------+\n",
            "|Môn này học chán quá|      0.0|negative|\n",
            "+--------------------+---------+--------+\n",
            "\n"
          ]
        }
      ]
    }
  ]
}